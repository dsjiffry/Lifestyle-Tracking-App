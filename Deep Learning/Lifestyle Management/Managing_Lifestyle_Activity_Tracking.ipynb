{
  "nbformat": 4,
  "nbformat_minor": 0,
  "metadata": {
    "colab": {
      "name": "Managing Lifestyle - Activity Tracking.ipynb",
      "provenance": [],
      "collapsed_sections": []
    },
    "kernelspec": {
      "name": "python3",
      "display_name": "Python 3"
    },
    "accelerator": "GPU"
  },
  "cells": [
    {
      "cell_type": "code",
      "metadata": {
        "id": "1p7Xl4lyBpja",
        "colab_type": "code",
        "colab": {}
      },
      "source": [
        "#Environment Details\n",
        "# !python --version\n",
        "# !pip freeze\n",
        "\n",
        "#Use when not running in Colab\n",
        "# !pip install numpy==1.18.5\n",
        "# !pip install tensorflow==2.3.0\n",
        "# !pip install pandas==1.0.5\n",
        "# !pip install seaborn==0.10.1\n",
        "# !pip install matplotlib==3.2.2\n",
        "# !pip install sklearn==0.0\n",
        "# !pip install scipy==1.4.1"
      ],
      "execution_count": null,
      "outputs": []
    },
    {
      "cell_type": "code",
      "metadata": {
        "id": "okmayBOjk8FY",
        "colab_type": "code",
        "colab": {}
      },
      "source": [
        "#Pre-requisites\n",
        "!nvidia-smi\n",
        "!pip install gdown\n",
        "!pip install tensorflow-gpu\n",
        "\n",
        "#Let’s download the data\n",
        "#!gdown --id 152sWECukjvLerrVG2NUO8gtMFg83RKCF --output WISDM_ar_latest.tar.gz\n",
        "#!tar -xvf WISDM_ar_latest.tar.gz\n",
        "!gdown https://cdap-fmg.s3.us-east-2.amazonaws.com/WISDM_WATCH_ACCEL.txt"
      ],
      "execution_count": null,
      "outputs": []
    },
    {
      "cell_type": "code",
      "metadata": {
        "id": "W71I_JqTu29i",
        "colab_type": "code",
        "colab": {}
      },
      "source": [
        "import numpy as np\n",
        "import tensorflow as tf\n",
        "from tensorflow import keras\n",
        "import pandas as pd\n",
        "import seaborn as sns\n",
        "from pylab import rcParams\n",
        "import matplotlib.pyplot as plt\n",
        "from matplotlib import rc\n",
        "from pandas.plotting import register_matplotlib_converters\n",
        "\n",
        "%matplotlib inline\n",
        "%config InlineBackend.figure_format='retina'\n",
        "\n",
        "register_matplotlib_converters()\n",
        "sns.set(style='whitegrid', palette='muted', font_scale=1.5)\n",
        "\n",
        "rcParams['figure.figsize'] = 22, 10\n",
        "\n",
        "RANDOM_SEED = 42\n",
        "\n",
        "np.random.seed(RANDOM_SEED)\n",
        "tf.random.set_seed(RANDOM_SEED)"
      ],
      "execution_count": null,
      "outputs": []
    },
    {
      "cell_type": "markdown",
      "metadata": {
        "id": "LGoiQBKFHdGS",
        "colab_type": "text"
      },
      "source": [
        "The data has the following features:\n",
        "* user_id - unique identifier of the user doing the activity\n",
        "* activity - the category of the current activity\n",
        "* x_axis, y_axis, z_axis - accelerometer data for each axis"
      ]
    },
    {
      "cell_type": "code",
      "metadata": {
        "id": "jHBAslVU_I-I",
        "colab_type": "code",
        "colab": {}
      },
      "source": [
        "column_names = ['user_id', 'activity', 'timestamp', 'x_axis', 'y_axis', 'z_axis']\n",
        "\n",
        "df = pd.read_csv('WISDM_WATCH_ACCEL.txt', header=None, names=column_names)\n",
        "df.z_axis.replace(regex=True, inplace=True, to_replace=r';', value=r'')\n",
        "df['z_axis'] = df.z_axis.astype(np.float64)\n",
        "df.dropna(axis=0, how='any', inplace=True)\n",
        "\n",
        "# removing the 'timestamp' column.\n",
        "df.pop('timestamp')\n",
        "\n",
        "df.head() #Outputs the first few lines of Data\n",
        "#df.shape #Outputs number of rows and collumns"
      ],
      "execution_count": null,
      "outputs": []
    },
    {
      "cell_type": "code",
      "metadata": {
        "id": "2IDoUdaoAZS1",
        "colab_type": "code",
        "colab": {}
      },
      "source": [
        "#Outputs the distribution of data\n",
        "sns.countplot(x = 'activity',\n",
        "              data = df,\n",
        "              order = df.activity.value_counts().index);\n",
        "plt.title(\"distribution of data across categories\");"
      ],
      "execution_count": null,
      "outputs": []
    },
    {
      "cell_type": "code",
      "metadata": {
        "id": "Uv_SbLNuAea4",
        "colab_type": "code",
        "colab": {}
      },
      "source": [
        "sns.countplot(x = 'user_id',\n",
        "              data = df,\n",
        "              palette=[sns.color_palette()[0]],\n",
        "              order = df.user_id.value_counts().index);\n",
        "plt.title(\"Records per user\");"
      ],
      "execution_count": null,
      "outputs": []
    },
    {
      "cell_type": "code",
      "metadata": {
        "id": "eV1_5Wscn1Qb",
        "colab_type": "code",
        "colab": {}
      },
      "source": [
        "#Observing the first 200 records\n",
        "def plot_activity(activity, df):\n",
        "    data = df[df['activity'] == activity][['x_axis', 'y_axis', 'z_axis']][:200]\n",
        "    axis = data.plot(subplots=True, figsize=(16, 12), \n",
        "                     title=activity)\n",
        "    for ax in axis:\n",
        "        ax.legend(loc='lower left', bbox_to_anchor=(1.0, 0.5))"
      ],
      "execution_count": null,
      "outputs": []
    },
    {
      "cell_type": "code",
      "metadata": {
        "id": "Shetpq5at-M3",
        "colab_type": "code",
        "colab": {}
      },
      "source": [
        "plot_activity(\"Sitting\", df);"
      ],
      "execution_count": null,
      "outputs": []
    },
    {
      "cell_type": "code",
      "metadata": {
        "id": "g9C5oqZ3t_Bn",
        "colab_type": "code",
        "colab": {}
      },
      "source": [
        "plot_activity(\"Jogging\", df);"
      ],
      "execution_count": null,
      "outputs": []
    },
    {
      "cell_type": "markdown",
      "metadata": {
        "id": "C_n-GQN0IyP6",
        "colab_type": "text"
      },
      "source": [
        "spliting the data into training and test datasets."
      ]
    },
    {
      "cell_type": "code",
      "metadata": {
        "id": "pQeh9amcBlcf",
        "colab_type": "code",
        "colab": {}
      },
      "source": [
        "df_train = df[df['user_id'] <= 1640]\n",
        "df_test = df[df['user_id'] > 1640]"
      ],
      "execution_count": null,
      "outputs": []
    },
    {
      "cell_type": "markdown",
      "metadata": {
        "id": "S7O5X32zJHo_",
        "colab_type": "text"
      },
      "source": [
        "Next, we’ll scale the accelerometer data values:"
      ]
    },
    {
      "cell_type": "code",
      "metadata": {
        "id": "KTyqjXYzZFLH",
        "colab_type": "code",
        "colab": {}
      },
      "source": [
        "from sklearn.preprocessing import RobustScaler\n",
        "\n",
        "scale_columns = ['x_axis', 'y_axis', 'z_axis']\n",
        "\n",
        "scaler = RobustScaler()\n",
        "\n",
        "scaler = scaler.fit(df_train[scale_columns])\n",
        "\n",
        "df_train.loc[:, scale_columns] = scaler.transform(df_train[scale_columns].to_numpy())\n",
        "df_test.loc[:, scale_columns] = scaler.transform(df_test[scale_columns].to_numpy())"
      ],
      "execution_count": null,
      "outputs": []
    },
    {
      "cell_type": "code",
      "metadata": {
        "id": "hd7I0oQGENCj",
        "colab_type": "code",
        "colab": {}
      },
      "source": [
        "from scipy import stats\n",
        "\n",
        "def create_dataset(X, y, time_steps=1, step=1):\n",
        "    Xs, ys = [], []\n",
        "    for i in range(0, len(X) - time_steps, step):\n",
        "        v = X.iloc[i:(i + time_steps)].values\n",
        "        labels = y.iloc[i: i + time_steps]\n",
        "        Xs.append(v)        \n",
        "        ys.append(stats.mode(labels)[0][0])\n",
        "    return np.array(Xs), np.array(ys).reshape(-1, 1)\n",
        "\n",
        "TIME_STEPS = 200\n",
        "STEP = 40\n",
        "\n",
        "X_train, y_train = create_dataset(\n",
        "    df_train[['x_axis', 'y_axis', 'z_axis']], \n",
        "    df_train.activity, \n",
        "    TIME_STEPS, \n",
        "    STEP\n",
        ")\n",
        "\n",
        "X_test, y_test = create_dataset(\n",
        "    df_test[['x_axis', 'y_axis', 'z_axis']], \n",
        "    df_test.activity, \n",
        "    TIME_STEPS, \n",
        "    STEP\n",
        ")"
      ],
      "execution_count": null,
      "outputs": []
    },
    {
      "cell_type": "code",
      "metadata": {
        "id": "ANI74QkyFO-e",
        "colab_type": "code",
        "colab": {}
      },
      "source": [
        "print(X_train.shape, y_train.shape)"
      ],
      "execution_count": null,
      "outputs": []
    },
    {
      "cell_type": "code",
      "metadata": {
        "id": "dLqqCUeXGaHI",
        "colab_type": "code",
        "colab": {}
      },
      "source": [
        "from sklearn.preprocessing import OneHotEncoder\n",
        "\n",
        "enc = OneHotEncoder(handle_unknown='ignore', sparse=False)\n",
        "\n",
        "enc = enc.fit(y_train)\n",
        "\n",
        "y_train = enc.transform(y_train)\n",
        "y_test = enc.transform(y_test)"
      ],
      "execution_count": null,
      "outputs": []
    },
    {
      "cell_type": "code",
      "metadata": {
        "id": "E7DKvlNsHjrJ",
        "colab_type": "code",
        "colab": {}
      },
      "source": [
        "print(X_train.shape, y_train.shape)"
      ],
      "execution_count": null,
      "outputs": []
    },
    {
      "cell_type": "code",
      "metadata": {
        "id": "iNrcW4jyG4Bg",
        "colab_type": "code",
        "colab": {}
      },
      "source": [
        "# The model is defined as a Sequential Keras model, for simplicity.\n",
        "# We will define the model as having a single LSTM hidden layer. \n",
        "# This is followed by a dropout layer intended to reduce overfitting of the model to the training data. \n",
        "# Finally, a dense fully connected layer is used to interpret the features extracted by the LSTM hidden layer, \n",
        "# before a final output layer is used to make predictions.\n",
        "\n",
        "\n",
        "model = keras.Sequential()\n",
        "model.add(\n",
        "    keras.layers.Bidirectional(\n",
        "      keras.layers.LSTM(\n",
        "          units=128, \n",
        "          input_shape=[X_train.shape[1], X_train.shape[2]]\n",
        "      )\n",
        "    )\n",
        ")\n",
        "model.add(keras.layers.Dropout(rate=0.5))\n",
        "model.add(keras.layers.Dense(units=128, activation='relu'))\n",
        "model.add(keras.layers.Dense(y_train.shape[1], activation='softmax'))\n",
        "model.compile(loss='categorical_crossentropy', optimizer='adam', metrics=['acc'])\n"
      ],
      "execution_count": null,
      "outputs": []
    },
    {
      "cell_type": "code",
      "metadata": {
        "id": "FTI_QqxYG-m6",
        "colab_type": "code",
        "colab": {}
      },
      "source": [
        "# one epoch = one forward pass and one backward pass of all the training examples\n",
        "# batch size = the number of training examples in one forward/backward pass. The higher the batch size, the more memory space you'll need.\n",
        "# number of iterations = number of passes, each pass using [batch size] number of examples. To be clear, one pass = one forward pass + one backward pass\n",
        "\n",
        "history = model.fit(\n",
        "    X_train, y_train,\n",
        "    epochs=300,\n",
        "    batch_size=32,\n",
        "    validation_split=0.1,\n",
        "    shuffle=False,\n",
        ")"
      ],
      "execution_count": null,
      "outputs": []
    },
    {
      "cell_type": "code",
      "metadata": {
        "id": "x3Zg7V2qVgxO",
        "colab_type": "code",
        "colab": {}
      },
      "source": [
        "# See how well can it predict the test data, second number is accuracy percentage\n",
        "model.evaluate(X_test, y_test)"
      ],
      "execution_count": null,
      "outputs": []
    },
    {
      "cell_type": "code",
      "metadata": {
        "id": "omyXhAixf-OI",
        "colab_type": "code",
        "colab": {}
      },
      "source": [
        "plt.plot(history.history['loss'], label='train loss')\n",
        "plt.plot(history.history['val_loss'], label='test loss')\n",
        "plt.legend();"
      ],
      "execution_count": null,
      "outputs": []
    },
    {
      "cell_type": "code",
      "metadata": {
        "id": "4fAb2cAeT9ax",
        "colab_type": "code",
        "colab": {}
      },
      "source": [
        "# print(X_test)\n",
        "y_pred = model.predict(X_test)\n",
        "print(y_pred)\n",
        "# print(model.summary())"
      ],
      "execution_count": null,
      "outputs": []
    },
    {
      "cell_type": "code",
      "metadata": {
        "id": "qK4txNm-VqLl",
        "colab_type": "code",
        "colab": {}
      },
      "source": [
        "from sklearn.metrics import confusion_matrix\n",
        "\n",
        "def plot_cm(y_true, y_pred, class_names):\n",
        "  cm = confusion_matrix(y_true, y_pred)\n",
        "  fig, ax = plt.subplots(figsize=(18, 16)) \n",
        "  ax = sns.heatmap(\n",
        "      cm, \n",
        "      annot=True, \n",
        "      fmt=\"d\", \n",
        "      cmap=sns.diverging_palette(220, 20, n=7),\n",
        "      ax=ax\n",
        "  )\n",
        "\n",
        "  plt.ylabel('Actual')\n",
        "  plt.xlabel('Predicted')\n",
        "  ax.set_xticklabels(class_names)\n",
        "  ax.set_yticklabels(class_names)\n",
        "  b, t = plt.ylim() # discover the values for bottom and top\n",
        "  b += 0.5 # Add 0.5 to the bottom\n",
        "  t -= 0.5 # Subtract 0.5 from the top\n",
        "  plt.ylim(b, t) # update the ylim(bottom, top) values\n",
        "  plt.show() # ta-da!"
      ],
      "execution_count": null,
      "outputs": []
    },
    {
      "cell_type": "code",
      "metadata": {
        "id": "OhkOzpSt1vLA",
        "colab_type": "code",
        "colab": {}
      },
      "source": [
        "plot_cm(\n",
        "  enc.inverse_transform(y_test),\n",
        "  enc.inverse_transform(y_pred),\n",
        "  enc.categories_[0]\n",
        ")"
      ],
      "execution_count": null,
      "outputs": []
    }
  ]
}